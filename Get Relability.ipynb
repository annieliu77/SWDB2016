{
 "cells": [
  {
   "cell_type": "markdown",
   "metadata": {},
   "source": [
    "# Prep Stuff"
   ]
  },
  {
   "cell_type": "code",
   "execution_count": 2,
   "metadata": {
    "collapsed": true
   },
   "outputs": [],
   "source": [
    "drive_path = 'd:/'\n",
    "import numpy as np\n",
    "import pandas as pd\n",
    "import os\n",
    "import sys\n",
    "import seaborn\n",
    "import matplotlib.pyplot as plt\n",
    "%matplotlib inline\n",
    "from scipy.stats import variation"
   ]
  },
  {
   "cell_type": "code",
   "execution_count": 3,
   "metadata": {
    "collapsed": true
   },
   "outputs": [],
   "source": [
    "from allensdk.core.brain_observatory_cache import BrainObservatoryCache\n",
    "from allensdk.brain_observatory.stimulus_analysis import StimulusAnalysis\n",
    "from allensdk.brain_observatory.findlevel import findlevel\n",
    "\n",
    "manifest_path = os.path.join(drive_path,'BrainObservatory','manifest.json')\n",
    "boc = BrainObservatoryCache(manifest_file=manifest_path)"
   ]
  },
  {
   "cell_type": "code",
   "execution_count": 4,
   "metadata": {
    "collapsed": true
   },
   "outputs": [],
   "source": [
    "#only get the sessions that contain the natural scenes: 79 sessions\n",
    "expMetaData = pd.DataFrame(boc.get_ophys_experiments())\n",
    "SessionThreeMD = expMetaData[expMetaData.session_type=='three_session_B']"
   ]
  },
  {
   "cell_type": "markdown",
   "metadata": {},
   "source": [
    "# Pull H5 files"
   ]
  },
  {
   "cell_type": "code",
   "execution_count": 5,
   "metadata": {
    "collapsed": false
   },
   "outputs": [
    {
     "data": {
      "text/html": [
       "<div>\n",
       "<table border=\"1\" class=\"dataframe\">\n",
       "  <thead>\n",
       "    <tr style=\"text-align: right;\">\n",
       "      <th></th>\n",
       "      <th>speed_max_sp</th>\n",
       "      <th>speed_min_sp</th>\n",
       "      <th>ptest_sp</th>\n",
       "      <th>mod_sp</th>\n",
       "      <th>speed_max_vis</th>\n",
       "      <th>speed_min_vis</th>\n",
       "      <th>ptest_vis</th>\n",
       "      <th>mod_vis</th>\n",
       "      <th>ori_sg</th>\n",
       "      <th>sf_sg</th>\n",
       "      <th>...</th>\n",
       "      <th>response_variability_nm1</th>\n",
       "      <th>ophys_experiment_id</th>\n",
       "      <th>area</th>\n",
       "      <th>targeted_structure</th>\n",
       "      <th>imaging_depth</th>\n",
       "      <th>depth</th>\n",
       "      <th>experiment_container_id</th>\n",
       "      <th>experiment_id</th>\n",
       "      <th>device</th>\n",
       "      <th>cre_line</th>\n",
       "    </tr>\n",
       "  </thead>\n",
       "  <tbody>\n",
       "    <tr>\n",
       "      <th>0</th>\n",
       "      <td>2.22412</td>\n",
       "      <td>-0.627139</td>\n",
       "      <td>0.874248</td>\n",
       "      <td>False</td>\n",
       "      <td>12.0146</td>\n",
       "      <td>1.98453</td>\n",
       "      <td>0.105503</td>\n",
       "      <td>False</td>\n",
       "      <td>3</td>\n",
       "      <td>3</td>\n",
       "      <td>...</td>\n",
       "      <td>100</td>\n",
       "      <td>505314372</td>\n",
       "      <td>None</td>\n",
       "      <td>VISal</td>\n",
       "      <td>275</td>\n",
       "      <td>275</td>\n",
       "      <td>511510860</td>\n",
       "      <td>None</td>\n",
       "      <td>2-photon microscope</td>\n",
       "      <td>Rorb-IRES2-Cre</td>\n",
       "    </tr>\n",
       "    <tr>\n",
       "      <th>1</th>\n",
       "      <td>1.27509</td>\n",
       "      <td>-0.627139</td>\n",
       "      <td>0.881507</td>\n",
       "      <td>False</td>\n",
       "      <td>7.26126</td>\n",
       "      <td>17.1999</td>\n",
       "      <td>0.235849</td>\n",
       "      <td>True</td>\n",
       "      <td>4</td>\n",
       "      <td>1</td>\n",
       "      <td>...</td>\n",
       "      <td>10</td>\n",
       "      <td>505314372</td>\n",
       "      <td>None</td>\n",
       "      <td>VISal</td>\n",
       "      <td>275</td>\n",
       "      <td>275</td>\n",
       "      <td>511510860</td>\n",
       "      <td>None</td>\n",
       "      <td>2-photon microscope</td>\n",
       "      <td>Rorb-IRES2-Cre</td>\n",
       "    </tr>\n",
       "    <tr>\n",
       "      <th>2</th>\n",
       "      <td>2.22412</td>\n",
       "      <td>-0.627139</td>\n",
       "      <td>0.445825</td>\n",
       "      <td>False</td>\n",
       "      <td>1.59828</td>\n",
       "      <td>17.1999</td>\n",
       "      <td>0.0717344</td>\n",
       "      <td>True</td>\n",
       "      <td>1</td>\n",
       "      <td>1</td>\n",
       "      <td>...</td>\n",
       "      <td>70</td>\n",
       "      <td>505314372</td>\n",
       "      <td>None</td>\n",
       "      <td>VISal</td>\n",
       "      <td>275</td>\n",
       "      <td>275</td>\n",
       "      <td>511510860</td>\n",
       "      <td>None</td>\n",
       "      <td>2-photon microscope</td>\n",
       "      <td>Rorb-IRES2-Cre</td>\n",
       "    </tr>\n",
       "    <tr>\n",
       "      <th>3</th>\n",
       "      <td>2.22412</td>\n",
       "      <td>1.27509</td>\n",
       "      <td>0.389149</td>\n",
       "      <td>False</td>\n",
       "      <td>2.09469</td>\n",
       "      <td>19.2328</td>\n",
       "      <td>0.723913</td>\n",
       "      <td>True</td>\n",
       "      <td>1</td>\n",
       "      <td>2</td>\n",
       "      <td>...</td>\n",
       "      <td>40</td>\n",
       "      <td>505314372</td>\n",
       "      <td>None</td>\n",
       "      <td>VISal</td>\n",
       "      <td>275</td>\n",
       "      <td>275</td>\n",
       "      <td>511510860</td>\n",
       "      <td>None</td>\n",
       "      <td>2-photon microscope</td>\n",
       "      <td>Rorb-IRES2-Cre</td>\n",
       "    </tr>\n",
       "    <tr>\n",
       "      <th>4</th>\n",
       "      <td>2.22412</td>\n",
       "      <td>-0.627139</td>\n",
       "      <td>0.429692</td>\n",
       "      <td>False</td>\n",
       "      <td>1.77996</td>\n",
       "      <td>19.2328</td>\n",
       "      <td>0.0929438</td>\n",
       "      <td>False</td>\n",
       "      <td>4</td>\n",
       "      <td>5</td>\n",
       "      <td>...</td>\n",
       "      <td>20</td>\n",
       "      <td>505314372</td>\n",
       "      <td>None</td>\n",
       "      <td>VISal</td>\n",
       "      <td>275</td>\n",
       "      <td>275</td>\n",
       "      <td>511510860</td>\n",
       "      <td>None</td>\n",
       "      <td>2-photon microscope</td>\n",
       "      <td>Rorb-IRES2-Cre</td>\n",
       "    </tr>\n",
       "  </tbody>\n",
       "</table>\n",
       "<p>5 rows × 36 columns</p>\n",
       "</div>"
      ],
      "text/plain": [
       "  speed_max_sp speed_min_sp  ptest_sp mod_sp speed_max_vis speed_min_vis  \\\n",
       "0      2.22412    -0.627139  0.874248  False       12.0146       1.98453   \n",
       "1      1.27509    -0.627139  0.881507  False       7.26126       17.1999   \n",
       "2      2.22412    -0.627139  0.445825  False       1.59828       17.1999   \n",
       "3      2.22412      1.27509  0.389149  False       2.09469       19.2328   \n",
       "4      2.22412    -0.627139  0.429692  False       1.77996       19.2328   \n",
       "\n",
       "   ptest_vis mod_vis ori_sg sf_sg       ...       response_variability_nm1  \\\n",
       "0   0.105503   False      3     3       ...                            100   \n",
       "1   0.235849    True      4     1       ...                             10   \n",
       "2  0.0717344    True      1     1       ...                             70   \n",
       "3   0.723913    True      1     2       ...                             40   \n",
       "4  0.0929438   False      4     5       ...                             20   \n",
       "\n",
       "  ophys_experiment_id  area targeted_structure imaging_depth depth  \\\n",
       "0           505314372  None              VISal           275   275   \n",
       "1           505314372  None              VISal           275   275   \n",
       "2           505314372  None              VISal           275   275   \n",
       "3           505314372  None              VISal           275   275   \n",
       "4           505314372  None              VISal           275   275   \n",
       "\n",
       "  experiment_container_id experiment_id               device        cre_line  \n",
       "0               511510860          None  2-photon microscope  Rorb-IRES2-Cre  \n",
       "1               511510860          None  2-photon microscope  Rorb-IRES2-Cre  \n",
       "2               511510860          None  2-photon microscope  Rorb-IRES2-Cre  \n",
       "3               511510860          None  2-photon microscope  Rorb-IRES2-Cre  \n",
       "4               511510860          None  2-photon microscope  Rorb-IRES2-Cre  \n",
       "\n",
       "[5 rows x 36 columns]"
      ]
     },
     "execution_count": 5,
     "metadata": {},
     "output_type": "execute_result"
    }
   ],
   "source": [
    "#for i in :\n",
    "expID=505314372\n",
    "df=pd.read_hdf('%d_three_session_B_analysis.h5'%(expID),'analysis/peak')\n",
    "df.head()\n",
    "#del df['dx']\n",
    "#Experiment=SessionThreeMD[SessionThreeMD.id==expID]\n",
    "#expContainerID=Experiment.experiment_container_id"
   ]
  },
  {
   "cell_type": "code",
   "execution_count": 6,
   "metadata": {
    "collapsed": false
   },
   "outputs": [
    {
     "data": {
      "text/plain": [
       "Index([u'speed_max_sp', u'speed_min_sp', u'ptest_sp', u'mod_sp',\n",
       "       u'speed_max_vis', u'speed_min_vis', u'ptest_vis', u'mod_vis', u'ori_sg',\n",
       "       u'sf_sg', u'phase_sg', u'response_variability_sg', u'osi_sg',\n",
       "       u'peak_dff_sg', u'ptest_sg', u'time_to_peak_sg', u'duration_sg',\n",
       "       u'scene_ns', u'response_variability_ns', u'peak_dff_ns', u'ptest_ns',\n",
       "       u'p_run_ns', u'run_modulation_ns', u'time_to_peak_ns', u'duration_ns',\n",
       "       u'peak_nm1', u'response_variability_nm1', u'ophys_experiment_id',\n",
       "       u'area', u'targeted_structure', u'imaging_depth', u'depth',\n",
       "       u'experiment_container_id', u'experiment_id', u'device', u'cre_line'],\n",
       "      dtype='object')"
      ]
     },
     "execution_count": 6,
     "metadata": {},
     "output_type": "execute_result"
    }
   ],
   "source": [
    "df.keys()"
   ]
  },
  {
   "cell_type": "code",
   "execution_count": null,
   "metadata": {
    "collapsed": true
   },
   "outputs": [],
   "source": []
  }
 ],
 "metadata": {
  "anaconda-cloud": {},
  "kernelspec": {
   "display_name": "Python [Root]",
   "language": "python",
   "name": "Python [Root]"
  },
  "language_info": {
   "codemirror_mode": {
    "name": "ipython",
    "version": 2
   },
   "file_extension": ".py",
   "mimetype": "text/x-python",
   "name": "python",
   "nbconvert_exporter": "python",
   "pygments_lexer": "ipython2",
   "version": "2.7.12"
  }
 },
 "nbformat": 4,
 "nbformat_minor": 0
}
