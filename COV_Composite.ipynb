{
 "cells": [
  {
   "cell_type": "markdown",
   "metadata": {},
   "source": [
    "# Prep Stuff"
   ]
  },
  {
   "cell_type": "code",
   "execution_count": 6,
   "metadata": {
    "collapsed": true
   },
   "outputs": [],
   "source": [
    "drive_path = 'd:/'\n",
    "import numpy as np\n",
    "import pandas as pd\n",
    "import os\n",
    "import sys\n",
    "import seaborn\n",
    "import matplotlib.pyplot as plt\n",
    "%matplotlib inline\n",
    "from scipy.stats import variation"
   ]
  },
  {
   "cell_type": "code",
   "execution_count": 7,
   "metadata": {
    "collapsed": true
   },
   "outputs": [],
   "source": [
    "from allensdk.core.brain_observatory_cache import BrainObservatoryCache\n",
    "from allensdk.brain_observatory.stimulus_analysis import StimulusAnalysis\n",
    "from allensdk.brain_observatory.findlevel import findlevel\n",
    "\n",
    "manifest_path = os.path.join(drive_path,'BrainObservatory','manifest.json')\n",
    "boc = BrainObservatoryCache(manifest_file=manifest_path)"
   ]
  },
  {
   "cell_type": "code",
   "execution_count": 28,
   "metadata": {
    "collapsed": false
   },
   "outputs": [
    {
     "data": {
      "text/html": [
       "<div>\n",
       "<table border=\"1\" class=\"dataframe\">\n",
       "  <thead>\n",
       "    <tr style=\"text-align: right;\">\n",
       "      <th></th>\n",
       "      <th>age_days</th>\n",
       "      <th>cre_line</th>\n",
       "      <th>experiment_container_id</th>\n",
       "      <th>id</th>\n",
       "      <th>imaging_depth</th>\n",
       "      <th>session_type</th>\n",
       "      <th>targeted_structure</th>\n",
       "    </tr>\n",
       "  </thead>\n",
       "  <tbody>\n",
       "    <tr>\n",
       "      <th>1</th>\n",
       "      <td>116.0</td>\n",
       "      <td>Rorb-IRES2-Cre</td>\n",
       "      <td>511511001</td>\n",
       "      <td>506278598</td>\n",
       "      <td>275</td>\n",
       "      <td>three_session_B</td>\n",
       "      <td>VISpm</td>\n",
       "    </tr>\n",
       "    <tr>\n",
       "      <th>5</th>\n",
       "      <td>105.0</td>\n",
       "      <td>Cux2-CreERT2</td>\n",
       "      <td>511510998</td>\n",
       "      <td>506156402</td>\n",
       "      <td>175</td>\n",
       "      <td>three_session_B</td>\n",
       "      <td>VISal</td>\n",
       "    </tr>\n",
       "    <tr>\n",
       "      <th>9</th>\n",
       "      <td>98.0</td>\n",
       "      <td>Scnn1a-Tg3-Cre</td>\n",
       "      <td>511510911</td>\n",
       "      <td>508596945</td>\n",
       "      <td>350</td>\n",
       "      <td>three_session_B</td>\n",
       "      <td>VISp</td>\n",
       "    </tr>\n",
       "    <tr>\n",
       "      <th>11</th>\n",
       "      <td>152.0</td>\n",
       "      <td>Cux2-CreERT2</td>\n",
       "      <td>511510715</td>\n",
       "      <td>501929146</td>\n",
       "      <td>175</td>\n",
       "      <td>three_session_B</td>\n",
       "      <td>VISal</td>\n",
       "    </tr>\n",
       "    <tr>\n",
       "      <th>17</th>\n",
       "      <td>132.0</td>\n",
       "      <td>Cux2-CreERT2</td>\n",
       "      <td>511510779</td>\n",
       "      <td>503019786</td>\n",
       "      <td>275</td>\n",
       "      <td>three_session_B</td>\n",
       "      <td>VISp</td>\n",
       "    </tr>\n",
       "  </tbody>\n",
       "</table>\n",
       "</div>"
      ],
      "text/plain": [
       "    age_days        cre_line  experiment_container_id         id  \\\n",
       "1      116.0  Rorb-IRES2-Cre                511511001  506278598   \n",
       "5      105.0    Cux2-CreERT2                511510998  506156402   \n",
       "9       98.0  Scnn1a-Tg3-Cre                511510911  508596945   \n",
       "11     152.0    Cux2-CreERT2                511510715  501929146   \n",
       "17     132.0    Cux2-CreERT2                511510779  503019786   \n",
       "\n",
       "    imaging_depth     session_type targeted_structure  \n",
       "1             275  three_session_B              VISpm  \n",
       "5             175  three_session_B              VISal  \n",
       "9             350  three_session_B               VISp  \n",
       "11            175  three_session_B              VISal  \n",
       "17            275  three_session_B               VISp  "
      ]
     },
     "execution_count": 28,
     "metadata": {},
     "output_type": "execute_result"
    }
   ],
   "source": [
    "#only get the sessions that contain the natural scenes: 79 sessions\n",
    "expMetaData = pd.DataFrame(boc.get_ophys_experiments())\n",
    "SessionThreeMD = expMetaData[expMetaData.session_type=='three_session_B']\n",
    "SessionThreeMD.head()"
   ]
  },
  {
   "cell_type": "code",
   "execution_count": 27,
   "metadata": {
    "collapsed": false
   },
   "outputs": [],
   "source": [
    "for i, expt_id in enumerate(SessionThreeMD['id']):\n",
    "    if i == 0:\n",
    "        df = pd.read_csv(\"%d_name\" % expt_id)\n",
    "    else:\n",
    "        df.append(read_csv...)\n",
    "    "
   ]
  },
  {
   "cell_type": "code",
   "execution_count": 5,
   "metadata": {
    "collapsed": true
   },
   "outputs": [],
   "source": [
    "#names = FinalDF.columns.tolist()\n",
    "#names[names[0]] = 'Cell_Specimen_ID'\n",
    "#FinalDF.columns=names\n",
    "#FinalDF.head()"
   ]
  }
 ],
 "metadata": {
  "anaconda-cloud": {},
  "kernelspec": {
   "display_name": "Python [Root]",
   "language": "python",
   "name": "Python [Root]"
  },
  "language_info": {
   "codemirror_mode": {
    "name": "ipython",
    "version": 2
   },
   "file_extension": ".py",
   "mimetype": "text/x-python",
   "name": "python",
   "nbconvert_exporter": "python",
   "pygments_lexer": "ipython2",
   "version": "2.7.12"
  }
 },
 "nbformat": 4,
 "nbformat_minor": 0
}
